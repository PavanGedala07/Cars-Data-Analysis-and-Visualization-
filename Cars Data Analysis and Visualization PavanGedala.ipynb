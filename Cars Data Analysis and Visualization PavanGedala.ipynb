{
  "cells": [
    {
      "cell_type": "code",
      "execution_count": null,
      "id": "b7a7ce2a",
      "metadata": {
        "id": "b7a7ce2a"
      },
      "outputs": [],
      "source": [
        "import pandas as pd\n",
        "import matplotlib.pyplot as plt\n",
        "import seaborn as sns"
      ]
    },
    {
      "cell_type": "markdown",
      "id": "33abeb47",
      "metadata": {
        "id": "33abeb47"
      },
      "source": [
        "# Loading Dataset"
      ]
    },
    {
      "cell_type": "code",
      "execution_count": null,
      "id": "7ffa77c0",
      "metadata": {
        "id": "7ffa77c0"
      },
      "outputs": [],
      "source": [
        "df = pd.read_csv(\"/Users/pavangedala/Downloads/Python-Data-Analysis-And-Visualization-With-Reports-Projects-main/Cars-Data-Analysis-and-Visualization-with-report/dataset-for-cars-data-analysis/Automobile.csv\")"
      ]
    },
    {
      "cell_type": "markdown",
      "id": "c5951be7",
      "metadata": {
        "id": "c5951be7"
      },
      "source": [
        "# Inspecting DataSet"
      ]
    },
    {
      "cell_type": "code",
      "execution_count": null,
      "id": "8c8c9088",
      "metadata": {
        "colab": {
          "base_uri": "https://localhost:8080/"
        },
        "id": "8c8c9088",
        "outputId": "fe121d0b-2513-4c53-8ab6-63af7143dc8e"
      },
      "outputs": [
        {
          "name": "stdout",
          "output_type": "stream",
          "text": [
            "<class 'pandas.core.frame.DataFrame'>\n",
            "RangeIndex: 398 entries, 0 to 397\n",
            "Data columns (total 9 columns):\n",
            " #   Column        Non-Null Count  Dtype  \n",
            "---  ------        --------------  -----  \n",
            " 0   name          398 non-null    object \n",
            " 1   mpg           398 non-null    float64\n",
            " 2   cylinders     398 non-null    int64  \n",
            " 3   displacement  398 non-null    float64\n",
            " 4   horsepower    392 non-null    float64\n",
            " 5   weight        398 non-null    int64  \n",
            " 6   acceleration  398 non-null    float64\n",
            " 7   model_year    398 non-null    int64  \n",
            " 8   origin        398 non-null    object \n",
            "dtypes: float64(4), int64(3), object(2)\n",
            "memory usage: 28.1+ KB\n"
          ]
        }
      ],
      "source": [
        "df.info()"
      ]
    },
    {
      "cell_type": "code",
      "execution_count": null,
      "id": "f2b1928d",
      "metadata": {
        "colab": {
          "base_uri": "https://localhost:8080/",
          "height": 300
        },
        "id": "f2b1928d",
        "outputId": "55ddd992-e845-42b9-f74e-1a8504e42848"
      },
      "outputs": [
        {
          "data": {
            "text/html": [
              "<div>\n",
              "<style scoped>\n",
              "    .dataframe tbody tr th:only-of-type {\n",
              "        vertical-align: middle;\n",
              "    }\n",
              "\n",
              "    .dataframe tbody tr th {\n",
              "        vertical-align: top;\n",
              "    }\n",
              "\n",
              "    .dataframe thead th {\n",
              "        text-align: right;\n",
              "    }\n",
              "</style>\n",
              "<table border=\"1\" class=\"dataframe\">\n",
              "  <thead>\n",
              "    <tr style=\"text-align: right;\">\n",
              "      <th></th>\n",
              "      <th>mpg</th>\n",
              "      <th>cylinders</th>\n",
              "      <th>displacement</th>\n",
              "      <th>horsepower</th>\n",
              "      <th>weight</th>\n",
              "      <th>acceleration</th>\n",
              "      <th>model_year</th>\n",
              "    </tr>\n",
              "  </thead>\n",
              "  <tbody>\n",
              "    <tr>\n",
              "      <th>count</th>\n",
              "      <td>398.000000</td>\n",
              "      <td>398.000000</td>\n",
              "      <td>398.000000</td>\n",
              "      <td>392.000000</td>\n",
              "      <td>398.000000</td>\n",
              "      <td>398.000000</td>\n",
              "      <td>398.000000</td>\n",
              "    </tr>\n",
              "    <tr>\n",
              "      <th>mean</th>\n",
              "      <td>23.514573</td>\n",
              "      <td>5.454774</td>\n",
              "      <td>193.425879</td>\n",
              "      <td>104.469388</td>\n",
              "      <td>2970.424623</td>\n",
              "      <td>15.568090</td>\n",
              "      <td>76.010050</td>\n",
              "    </tr>\n",
              "    <tr>\n",
              "      <th>std</th>\n",
              "      <td>7.815984</td>\n",
              "      <td>1.701004</td>\n",
              "      <td>104.269838</td>\n",
              "      <td>38.491160</td>\n",
              "      <td>846.841774</td>\n",
              "      <td>2.757689</td>\n",
              "      <td>3.697627</td>\n",
              "    </tr>\n",
              "    <tr>\n",
              "      <th>min</th>\n",
              "      <td>9.000000</td>\n",
              "      <td>3.000000</td>\n",
              "      <td>68.000000</td>\n",
              "      <td>46.000000</td>\n",
              "      <td>1613.000000</td>\n",
              "      <td>8.000000</td>\n",
              "      <td>70.000000</td>\n",
              "    </tr>\n",
              "    <tr>\n",
              "      <th>25%</th>\n",
              "      <td>17.500000</td>\n",
              "      <td>4.000000</td>\n",
              "      <td>104.250000</td>\n",
              "      <td>75.000000</td>\n",
              "      <td>2223.750000</td>\n",
              "      <td>13.825000</td>\n",
              "      <td>73.000000</td>\n",
              "    </tr>\n",
              "    <tr>\n",
              "      <th>50%</th>\n",
              "      <td>23.000000</td>\n",
              "      <td>4.000000</td>\n",
              "      <td>148.500000</td>\n",
              "      <td>93.500000</td>\n",
              "      <td>2803.500000</td>\n",
              "      <td>15.500000</td>\n",
              "      <td>76.000000</td>\n",
              "    </tr>\n",
              "    <tr>\n",
              "      <th>75%</th>\n",
              "      <td>29.000000</td>\n",
              "      <td>8.000000</td>\n",
              "      <td>262.000000</td>\n",
              "      <td>126.000000</td>\n",
              "      <td>3608.000000</td>\n",
              "      <td>17.175000</td>\n",
              "      <td>79.000000</td>\n",
              "    </tr>\n",
              "    <tr>\n",
              "      <th>max</th>\n",
              "      <td>46.600000</td>\n",
              "      <td>8.000000</td>\n",
              "      <td>455.000000</td>\n",
              "      <td>230.000000</td>\n",
              "      <td>5140.000000</td>\n",
              "      <td>24.800000</td>\n",
              "      <td>82.000000</td>\n",
              "    </tr>\n",
              "  </tbody>\n",
              "</table>\n",
              "</div>"
            ],
            "text/plain": [
              "              mpg   cylinders  displacement  horsepower       weight  \\\n",
              "count  398.000000  398.000000    398.000000  392.000000   398.000000   \n",
              "mean    23.514573    5.454774    193.425879  104.469388  2970.424623   \n",
              "std      7.815984    1.701004    104.269838   38.491160   846.841774   \n",
              "min      9.000000    3.000000     68.000000   46.000000  1613.000000   \n",
              "25%     17.500000    4.000000    104.250000   75.000000  2223.750000   \n",
              "50%     23.000000    4.000000    148.500000   93.500000  2803.500000   \n",
              "75%     29.000000    8.000000    262.000000  126.000000  3608.000000   \n",
              "max     46.600000    8.000000    455.000000  230.000000  5140.000000   \n",
              "\n",
              "       acceleration  model_year  \n",
              "count    398.000000  398.000000  \n",
              "mean      15.568090   76.010050  \n",
              "std        2.757689    3.697627  \n",
              "min        8.000000   70.000000  \n",
              "25%       13.825000   73.000000  \n",
              "50%       15.500000   76.000000  \n",
              "75%       17.175000   79.000000  \n",
              "max       24.800000   82.000000  "
            ]
          },
          "execution_count": 265,
          "metadata": {},
          "output_type": "execute_result"
        }
      ],
      "source": [
        "df.describe()"
      ]
    },
    {
      "cell_type": "code",
      "execution_count": null,
      "id": "21896471",
      "metadata": {
        "colab": {
          "base_uri": "https://localhost:8080/"
        },
        "id": "21896471",
        "outputId": "3121e502-5547-45d1-9779-9e0299130442"
      },
      "outputs": [
        {
          "data": {
            "text/plain": [
              "(398, 9)"
            ]
          },
          "execution_count": 266,
          "metadata": {},
          "output_type": "execute_result"
        }
      ],
      "source": [
        "df.shape"
      ]
    },
    {
      "cell_type": "markdown",
      "id": "c69c6c1c",
      "metadata": {
        "id": "c69c6c1c"
      },
      "source": [
        "# Datapreprocessing and EXPLORATORY DATA ANALYSIS (EDA)"
      ]
    },
    {
      "cell_type": "markdown",
      "id": "a6bec73d",
      "metadata": {
        "id": "a6bec73d"
      },
      "source": [
        "### displacement column"
      ]
    },
    {
      "cell_type": "code",
      "execution_count": null,
      "id": "2e1a20cb",
      "metadata": {
        "colab": {
          "base_uri": "https://localhost:8080/",
          "height": 371
        },
        "id": "2e1a20cb",
        "outputId": "560d5009-9a57-441d-e95b-53b88bd812ce"
      },
      "outputs": [
        {
          "data": {
            "text/plain": [
              "<AxesSubplot:ylabel='displacement'>"
            ]
          },
          "execution_count": 267,
          "metadata": {},
          "output_type": "execute_result"
        },
        {
          "data": {
            "image/png": "[encoded data removed]",
            "text/plain": [
              "<Figure size 640x480 with 1 Axes>"
            ]
          },
          "metadata": {},
          "output_type": "display_data"
        }
      ],
      "source": [
        "#The displacement column has numerous outliers and high maximum values that need adjustment.\n",
        "\n",
        "sns.boxplot(y=df[\"displacement\"])"
      ]
    },
    {
      "cell_type": "code",
      "execution_count": null,
      "id": "0b0da0b4",
      "metadata": {
        "colab": {
          "base_uri": "https://localhost:8080/"
        },
        "id": "0b0da0b4",
        "outputId": "eb29fbdb-3da5-4ad8-8b6d-6b95a583a394"
      },
      "outputs": [
        {
          "data": {
            "text/plain": [
              "101"
            ]
          },
          "execution_count": 268,
          "metadata": {},
          "output_type": "execute_result"
        }
      ],
      "source": [
        "len(df[df[\"displacement\"]>260])"
      ]
    },
    {
      "cell_type": "code",
      "execution_count": null,
      "id": "bf751996",
      "metadata": {
        "colab": {
          "base_uri": "https://localhost:8080/"
        },
        "id": "bf751996",
        "outputId": "9aa322ff-d8e2-40e1-a691-b95e3cd9888d"
      },
      "outputs": [
        {
          "data": {
            "text/plain": [
              "98"
            ]
          },
          "execution_count": 269,
          "metadata": {},
          "output_type": "execute_result"
        }
      ],
      "source": [
        "len(df[df[\"displacement\"]>300])"
      ]
    },
    {
      "cell_type": "code",
      "execution_count": null,
      "id": "a0664a66",
      "metadata": {
        "colab": {
          "base_uri": "https://localhost:8080/"
        },
        "id": "a0664a66",
        "outputId": "81ed9556-87af-421d-82e4-f71c6f1269c5"
      },
      "outputs": [
        {
          "data": {
            "text/plain": [
              "37"
            ]
          },
          "execution_count": 270,
          "metadata": {},
          "output_type": "execute_result"
        }
      ],
      "source": [
        "#Identified 37 instances where the displacement values exceeded 350, indicating a potential skewness in the dataset.\"\n",
        "len(df[df[\"displacement\"]>350])"
      ]
    },
    {
      "cell_type": "markdown",
      "id": "b9f886c7",
      "metadata": {
        "id": "b9f886c7"
      },
      "source": [
        "### horsepower column"
      ]
    },
    {
      "cell_type": "code",
      "execution_count": null,
      "id": "31552427",
      "metadata": {
        "colab": {
          "base_uri": "https://localhost:8080/",
          "height": 363
        },
        "id": "31552427",
        "outputId": "15807461-e1eb-45a6-b237-ae7d9facbff2"
      },
      "outputs": [
        {
          "data": {
            "text/plain": [
              "<AxesSubplot:ylabel='horsepower'>"
            ]
          },
          "execution_count": 271,
          "metadata": {},
          "output_type": "execute_result"
        },
        {
          "data": {
            "image/png": "[encoded data removed]",
            "text/plain": [
              "<Figure size 640x480 with 1 Axes>"
            ]
          },
          "metadata": {},
          "output_type": "display_data"
        }
      ],
      "source": [
        "#The horsepower column exhibits outliers that require adjustment for a more accurate analysis.\n",
        "sns.boxplot(y=df[\"horsepower\"])"
      ]
    },
    {
      "cell_type": "code",
      "execution_count": null,
      "id": "b1b517aa",
      "metadata": {
        "colab": {
          "base_uri": "https://localhost:8080/"
        },
        "id": "b1b517aa",
        "outputId": "18a28ae9-8b16-4393-f382-243d14672a44"
      },
      "outputs": [
        {
          "data": {
            "text/plain": [
              "8"
            ]
          },
          "execution_count": 272,
          "metadata": {},
          "output_type": "execute_result"
        }
      ],
      "source": [
        "# Maximumly 8 outliers are identified in the horsepower column\n",
        "len(df[df[\"horsepower\"]>210])"
      ]
    },
    {
      "cell_type": "code",
      "execution_count": null,
      "id": "8aee74f2",
      "metadata": {
        "colab": {
          "base_uri": "https://localhost:8080/",
          "height": 363
        },
        "id": "8aee74f2",
        "outputId": "54f901a4-00c7-4ec9-9b18-d45d190c22e0"
      },
      "outputs": [
        {
          "data": {
            "text/html": [
              "<div>\n",
              "<style scoped>\n",
              "    .dataframe tbody tr th:only-of-type {\n",
              "        vertical-align: middle;\n",
              "    }\n",
              "\n",
              "    .dataframe tbody tr th {\n",
              "        vertical-align: top;\n",
              "    }\n",
              "\n",
              "    .dataframe thead th {\n",
              "        text-align: right;\n",
              "    }\n",
              "</style>\n",
              "<table border=\"1\" class=\"dataframe\">\n",
              "  <thead>\n",
              "    <tr style=\"text-align: right;\">\n",
              "      <th></th>\n",
              "      <th>name</th>\n",
              "      <th>mpg</th>\n",
              "      <th>cylinders</th>\n",
              "      <th>displacement</th>\n",
              "      <th>horsepower</th>\n",
              "      <th>weight</th>\n",
              "      <th>acceleration</th>\n",
              "      <th>model_year</th>\n",
              "      <th>origin</th>\n",
              "    </tr>\n",
              "  </thead>\n",
              "  <tbody>\n",
              "    <tr>\n",
              "      <th>133</th>\n",
              "      <td>chevrolet chevelle malibu classic</td>\n",
              "      <td>16.0</td>\n",
              "      <td>6</td>\n",
              "      <td>250.0</td>\n",
              "      <td>100.0</td>\n",
              "      <td>3781</td>\n",
              "      <td>17.0</td>\n",
              "      <td>74</td>\n",
              "      <td>usa</td>\n",
              "    </tr>\n",
              "    <tr>\n",
              "      <th>99</th>\n",
              "      <td>amc hornet</td>\n",
              "      <td>18.0</td>\n",
              "      <td>6</td>\n",
              "      <td>232.0</td>\n",
              "      <td>100.0</td>\n",
              "      <td>2945</td>\n",
              "      <td>16.0</td>\n",
              "      <td>73</td>\n",
              "      <td>usa</td>\n",
              "    </tr>\n",
              "    <tr>\n",
              "      <th>197</th>\n",
              "      <td>vw rabbit</td>\n",
              "      <td>29.0</td>\n",
              "      <td>4</td>\n",
              "      <td>90.0</td>\n",
              "      <td>70.0</td>\n",
              "      <td>1937</td>\n",
              "      <td>14.2</td>\n",
              "      <td>76</td>\n",
              "      <td>europe</td>\n",
              "    </tr>\n",
              "    <tr>\n",
              "      <th>52</th>\n",
              "      <td>fiat 124b</td>\n",
              "      <td>30.0</td>\n",
              "      <td>4</td>\n",
              "      <td>88.0</td>\n",
              "      <td>76.0</td>\n",
              "      <td>2065</td>\n",
              "      <td>14.5</td>\n",
              "      <td>71</td>\n",
              "      <td>europe</td>\n",
              "    </tr>\n",
              "    <tr>\n",
              "      <th>49</th>\n",
              "      <td>mercury capri 2000</td>\n",
              "      <td>23.0</td>\n",
              "      <td>4</td>\n",
              "      <td>122.0</td>\n",
              "      <td>86.0</td>\n",
              "      <td>2220</td>\n",
              "      <td>14.0</td>\n",
              "      <td>71</td>\n",
              "      <td>usa</td>\n",
              "    </tr>\n",
              "    <tr>\n",
              "      <th>15</th>\n",
              "      <td>plymouth duster</td>\n",
              "      <td>22.0</td>\n",
              "      <td>6</td>\n",
              "      <td>198.0</td>\n",
              "      <td>95.0</td>\n",
              "      <td>2833</td>\n",
              "      <td>15.5</td>\n",
              "      <td>70</td>\n",
              "      <td>usa</td>\n",
              "    </tr>\n",
              "    <tr>\n",
              "      <th>371</th>\n",
              "      <td>dodge aries se</td>\n",
              "      <td>29.0</td>\n",
              "      <td>4</td>\n",
              "      <td>135.0</td>\n",
              "      <td>84.0</td>\n",
              "      <td>2525</td>\n",
              "      <td>16.0</td>\n",
              "      <td>82</td>\n",
              "      <td>usa</td>\n",
              "    </tr>\n",
              "    <tr>\n",
              "      <th>287</th>\n",
              "      <td>mercury grand marquis</td>\n",
              "      <td>16.5</td>\n",
              "      <td>8</td>\n",
              "      <td>351.0</td>\n",
              "      <td>138.0</td>\n",
              "      <td>3955</td>\n",
              "      <td>13.2</td>\n",
              "      <td>79</td>\n",
              "      <td>usa</td>\n",
              "    </tr>\n",
              "    <tr>\n",
              "      <th>332</th>\n",
              "      <td>vokswagen rabbit</td>\n",
              "      <td>29.8</td>\n",
              "      <td>4</td>\n",
              "      <td>89.0</td>\n",
              "      <td>62.0</td>\n",
              "      <td>1845</td>\n",
              "      <td>15.3</td>\n",
              "      <td>80</td>\n",
              "      <td>europe</td>\n",
              "    </tr>\n",
              "    <tr>\n",
              "      <th>75</th>\n",
              "      <td>plymouth satellite custom (sw)</td>\n",
              "      <td>14.0</td>\n",
              "      <td>8</td>\n",
              "      <td>318.0</td>\n",
              "      <td>150.0</td>\n",
              "      <td>4077</td>\n",
              "      <td>14.0</td>\n",
              "      <td>72</td>\n",
              "      <td>usa</td>\n",
              "    </tr>\n",
              "  </tbody>\n",
              "</table>\n",
              "</div>"
            ],
            "text/plain": [
              "                                  name   mpg  cylinders  displacement  \\\n",
              "133  chevrolet chevelle malibu classic  16.0          6         250.0   \n",
              "99                          amc hornet  18.0          6         232.0   \n",
              "197                          vw rabbit  29.0          4          90.0   \n",
              "52                           fiat 124b  30.0          4          88.0   \n",
              "49                  mercury capri 2000  23.0          4         122.0   \n",
              "15                     plymouth duster  22.0          6         198.0   \n",
              "371                     dodge aries se  29.0          4         135.0   \n",
              "287              mercury grand marquis  16.5          8         351.0   \n",
              "332                   vokswagen rabbit  29.8          4          89.0   \n",
              "75      plymouth satellite custom (sw)  14.0          8         318.0   \n",
              "\n",
              "     horsepower  weight  acceleration  model_year  origin  \n",
              "133       100.0    3781          17.0          74     usa  \n",
              "99        100.0    2945          16.0          73     usa  \n",
              "197        70.0    1937          14.2          76  europe  \n",
              "52         76.0    2065          14.5          71  europe  \n",
              "49         86.0    2220          14.0          71     usa  \n",
              "15         95.0    2833          15.5          70     usa  \n",
              "371        84.0    2525          16.0          82     usa  \n",
              "287       138.0    3955          13.2          79     usa  \n",
              "332        62.0    1845          15.3          80  europe  \n",
              "75        150.0    4077          14.0          72     usa  "
            ]
          },
          "execution_count": 273,
          "metadata": {},
          "output_type": "execute_result"
        }
      ],
      "source": [
        "# Testsample\n",
        "df.sample(10)"
      ]
    },
    {
      "cell_type": "code",
      "execution_count": null,
      "id": "59a2e8a8",
      "metadata": {
        "colab": {
          "base_uri": "https://localhost:8080/"
        },
        "id": "59a2e8a8",
        "outputId": "444ff126-4b44-4155-994a-8abd95691ea9"
      },
      "outputs": [
        {
          "data": {
            "text/plain": [
              "name            0\n",
              "mpg             0\n",
              "cylinders       0\n",
              "displacement    0\n",
              "horsepower      6\n",
              "weight          0\n",
              "acceleration    0\n",
              "model_year      0\n",
              "origin          0\n",
              "dtype: int64"
            ]
          },
          "execution_count": 274,
          "metadata": {},
          "output_type": "execute_result"
        }
      ],
      "source": [
        "# horsepowercolumn contains 6 missing values\n",
        "df.isnull().sum()"
      ]
    },
    {
      "cell_type": "code",
      "execution_count": null,
      "id": "cf221726",
      "metadata": {
        "id": "cf221726"
      },
      "outputs": [],
      "source": [
        "# Replacing the missing values with 0\n",
        "df[\"horsepower\"] = df[\"horsepower\"].fillna(0)"
      ]
    },
    {
      "cell_type": "code",
      "execution_count": null,
      "id": "3d37024e",
      "metadata": {
        "colab": {
          "base_uri": "https://localhost:8080/"
        },
        "id": "3d37024e",
        "outputId": "4ff641fb-a7cf-40bd-b92e-abc4c808a2ac"
      },
      "outputs": [
        {
          "data": {
            "text/plain": [
              "name            0\n",
              "mpg             0\n",
              "cylinders       0\n",
              "displacement    0\n",
              "horsepower      0\n",
              "weight          0\n",
              "acceleration    0\n",
              "model_year      0\n",
              "origin          0\n",
              "dtype: int64"
            ]
          },
          "execution_count": 276,
          "metadata": {},
          "output_type": "execute_result"
        }
      ],
      "source": [
        "# Test\n",
        "df.isnull().sum()"
      ]
    },
    {
      "cell_type": "code",
      "execution_count": null,
      "id": "119a2548",
      "metadata": {
        "colab": {
          "base_uri": "https://localhost:8080/"
        },
        "id": "119a2548",
        "outputId": "cf53d900-dd46-4610-f5ac-ed0604212b6c"
      },
      "outputs": [
        {
          "data": {
            "text/plain": [
              "0"
            ]
          },
          "execution_count": 277,
          "metadata": {},
          "output_type": "execute_result"
        }
      ],
      "source": [
        "# No duplicated values found in the whole dataset\n",
        "df.duplicated().sum()"
      ]
    },
    {
      "cell_type": "markdown",
      "id": "77542710",
      "metadata": {
        "id": "77542710"
      },
      "source": [
        "### name column"
      ]
    },
    {
      "cell_type": "code",
      "execution_count": null,
      "id": "5713cd58",
      "metadata": {
        "colab": {
          "base_uri": "https://localhost:8080/"
        },
        "id": "5713cd58",
        "outputId": "0be40d4e-76f3-4250-8a37-7f8571ff9f49"
      },
      "outputs": [
        {
          "data": {
            "text/plain": [
              "count            398\n",
              "unique           305\n",
              "top       ford pinto\n",
              "freq               6\n",
              "Name: name, dtype: object"
            ]
          },
          "execution_count": 278,
          "metadata": {},
          "output_type": "execute_result"
        }
      ],
      "source": [
        "df[\"name\"].describe()"
      ]
    },
    {
      "cell_type": "code",
      "execution_count": null,
      "id": "6289ed84",
      "metadata": {
        "colab": {
          "base_uri": "https://localhost:8080/"
        },
        "id": "6289ed84",
        "outputId": "5f2164bc-7a27-43e1-e212-125eda5bb043"
      },
      "outputs": [
        {
          "name": "stdout",
          "output_type": "stream",
          "text": [
            "<class 'pandas.core.series.Series'>\n",
            "RangeIndex: 398 entries, 0 to 397\n",
            "Series name: name\n",
            "Non-Null Count  Dtype \n",
            "--------------  ----- \n",
            "398 non-null    object\n",
            "dtypes: object(1)\n",
            "memory usage: 3.2+ KB\n"
          ]
        }
      ],
      "source": [
        "df[\"name\"].info()"
      ]
    },
    {
      "cell_type": "markdown",
      "id": "1c42c248",
      "metadata": {
        "id": "1c42c248"
      },
      "source": [
        "### mpg column"
      ]
    },
    {
      "cell_type": "code",
      "execution_count": null,
      "id": "d9b3f465",
      "metadata": {
        "colab": {
          "base_uri": "https://localhost:8080/"
        },
        "id": "d9b3f465",
        "outputId": "b32a2249-3915-42af-eaf4-eaffcfc7c701"
      },
      "outputs": [
        {
          "data": {
            "text/plain": [
              "count    398.000000\n",
              "mean      23.514573\n",
              "std        7.815984\n",
              "min        9.000000\n",
              "25%       17.500000\n",
              "50%       23.000000\n",
              "75%       29.000000\n",
              "max       46.600000\n",
              "Name: mpg, dtype: float64"
            ]
          },
          "execution_count": 280,
          "metadata": {},
          "output_type": "execute_result"
        }
      ],
      "source": [
        "df[\"mpg\"].describe()"
      ]
    },
    {
      "cell_type": "code",
      "execution_count": null,
      "id": "c251b423",
      "metadata": {
        "colab": {
          "base_uri": "https://localhost:8080/",
          "height": 413
        },
        "id": "c251b423",
        "outputId": "8b4d85ac-af07-4cc1-83ff-b528e2cee27a"
      },
      "outputs": [
        {
          "name": "stderr",
          "output_type": "stream",
          "text": [
            "/Users/pavangedala/opt/anaconda3/lib/python3.9/site-packages/seaborn/_decorators.py:36: FutureWarning: Pass the following variable as a keyword arg: x. From version 0.12, the only valid positional argument will be `data`, and passing other arguments without an explicit keyword will result in an error or misinterpretation.\n",
            "  warnings.warn(\n"
          ]
        },
        {
          "data": {
            "text/plain": [
              "Text(0.5, 1.0, 'MPG')"
            ]
          },
          "execution_count": 281,
          "metadata": {},
          "output_type": "execute_result"
        },
        {
          "data": {
            "image/png": "[encoded data removed]",
            "text/plain": [
              "<Figure size 640x480 with 1 Axes>"
            ]
          },
          "metadata": {},
          "output_type": "display_data"
        }
      ],
      "source": [
        "# one outlier is detected but the remaining data seems same/normal\n",
        "sns.boxplot(df[\"mpg\"])\n",
        "plt.title(\"MPG\")"
      ]
    },
    {
      "cell_type": "code",
      "execution_count": null,
      "id": "62f90ef0",
      "metadata": {
        "colab": {
          "base_uri": "https://localhost:8080/"
        },
        "id": "62f90ef0",
        "outputId": "9a02e671-e4ed-43af-bf83-077c3f309efb"
      },
      "outputs": [
        {
          "name": "stdout",
          "output_type": "stream",
          "text": [
            "<class 'pandas.core.series.Series'>\n",
            "RangeIndex: 398 entries, 0 to 397\n",
            "Series name: mpg\n",
            "Non-Null Count  Dtype  \n",
            "--------------  -----  \n",
            "398 non-null    float64\n",
            "dtypes: float64(1)\n",
            "memory usage: 3.2 KB\n"
          ]
        }
      ],
      "source": [
        "df[\"mpg\"].info()"
      ]
    },
    {
      "cell_type": "code",
      "execution_count": null,
      "id": "de0132ad",
      "metadata": {
        "id": "de0132ad"
      },
      "outputs": [],
      "source": [
        "# Conversion - float64 to float32\n",
        "df[\"mpg\"] = df[\"mpg\"].astype(\"float32\")"
      ]
    },
    {
      "cell_type": "code",
      "execution_count": null,
      "id": "83c17fcb",
      "metadata": {
        "colab": {
          "base_uri": "https://localhost:8080/"
        },
        "id": "83c17fcb",
        "outputId": "20a5bd23-5ba7-4f71-91c4-b1480a4525d9"
      },
      "outputs": [
        {
          "name": "stdout",
          "output_type": "stream",
          "text": [
            "<class 'pandas.core.series.Series'>\n",
            "RangeIndex: 398 entries, 0 to 397\n",
            "Series name: mpg\n",
            "Non-Null Count  Dtype  \n",
            "--------------  -----  \n",
            "398 non-null    float32\n",
            "dtypes: float32(1)\n",
            "memory usage: 1.7 KB\n"
          ]
        }
      ],
      "source": [
        "df[\"mpg\"].info()"
      ]
    },
    {
      "cell_type": "code",
      "execution_count": null,
      "id": "04e16c8f",
      "metadata": {
        "colab": {
          "base_uri": "https://localhost:8080/",
          "height": 391
        },
        "id": "04e16c8f",
        "outputId": "241e5079-71e7-49fb-b7f2-e8a5c97a7d7c"
      },
      "outputs": [
        {
          "data": {
            "text/plain": [
              "<AxesSubplot:ylabel='Frequency'>"
            ]
          },
          "execution_count": 285,
          "metadata": {},
          "output_type": "execute_result"
        },
        {
          "data": {
            "image/png": "[encoded data removed]",
            "text/plain": [
              "<Figure size 640x480 with 1 Axes>"
            ]
          },
          "metadata": {},
          "output_type": "display_data"
        }
      ],
      "source": [
        "df[\"mpg\"].plot(kind=\"hist\")"
      ]
    },
    {
      "cell_type": "code",
      "execution_count": null,
      "id": "d458ec52",
      "metadata": {
        "colab": {
          "base_uri": "https://localhost:8080/"
        },
        "id": "d458ec52",
        "outputId": "7b412ae9-4ba9-4d14-8243-636e1f1cca91"
      },
      "outputs": [
        {
          "data": {
            "text/plain": [
              "0.4570666"
            ]
          },
          "execution_count": 286,
          "metadata": {},
          "output_type": "execute_result"
        }
      ],
      "source": [
        "# normally distributed data\n",
        "df[\"mpg\"].skew()"
      ]
    },
    {
      "cell_type": "markdown",
      "id": "b80e1c65",
      "metadata": {
        "id": "b80e1c65"
      },
      "source": [
        "### cylinders column"
      ]
    },
    {
      "cell_type": "code",
      "execution_count": null,
      "id": "7e69437a",
      "metadata": {
        "colab": {
          "base_uri": "https://localhost:8080/"
        },
        "id": "7e69437a",
        "outputId": "8c10b0d6-7962-489c-8797-5d1115bb73b6"
      },
      "outputs": [
        {
          "name": "stdout",
          "output_type": "stream",
          "text": [
            "<class 'pandas.core.series.Series'>\n",
            "RangeIndex: 398 entries, 0 to 397\n",
            "Series name: cylinders\n",
            "Non-Null Count  Dtype\n",
            "--------------  -----\n",
            "398 non-null    int64\n",
            "dtypes: int64(1)\n",
            "memory usage: 3.2 KB\n"
          ]
        }
      ],
      "source": [
        "# The \"cylinders\" column, originally of type int64, is converted to int16 for optimized memory usage\n",
        "df[\"cylinders\"].info()"
      ]
    },
    {
      "cell_type": "code",
      "execution_count": null,
      "id": "6598e3c3",
      "metadata": {
        "id": "6598e3c3"
      },
      "outputs": [],
      "source": [
        "# Conversion from int64 to int16 which saved 2kb space\n",
        "df[\"cylinders\"] = df[\"cylinders\"].astype(\"int16\")"
      ]
    },
    {
      "cell_type": "code",
      "execution_count": null,
      "id": "0042ef6a",
      "metadata": {
        "colab": {
          "base_uri": "https://localhost:8080/"
        },
        "id": "0042ef6a",
        "outputId": "6d51af4c-3fc9-425f-f340-f78c6a0abce7"
      },
      "outputs": [
        {
          "name": "stdout",
          "output_type": "stream",
          "text": [
            "<class 'pandas.core.series.Series'>\n",
            "RangeIndex: 398 entries, 0 to 397\n",
            "Series name: cylinders\n",
            "Non-Null Count  Dtype\n",
            "--------------  -----\n",
            "398 non-null    int16\n",
            "dtypes: int16(1)\n",
            "memory usage: 924.0 bytes\n"
          ]
        }
      ],
      "source": [
        "# Test\n",
        "df[\"cylinders\"].info()"
      ]
    },
    {
      "cell_type": "code",
      "execution_count": null,
      "id": "c173dce6",
      "metadata": {
        "colab": {
          "base_uri": "https://localhost:8080/"
        },
        "id": "c173dce6",
        "outputId": "4830a23f-2b87-4c8b-ab73-8edb3bed098c"
      },
      "outputs": [
        {
          "data": {
            "text/plain": [
              "count    398.000000\n",
              "mean       5.454774\n",
              "std        1.701004\n",
              "min        3.000000\n",
              "25%        4.000000\n",
              "50%        4.000000\n",
              "75%        8.000000\n",
              "max        8.000000\n",
              "Name: cylinders, dtype: float64"
            ]
          },
          "execution_count": 290,
          "metadata": {},
          "output_type": "execute_result"
        }
      ],
      "source": [
        "# looks normal\n",
        "df[\"cylinders\"].describe()"
      ]
    },
    {
      "cell_type": "code",
      "execution_count": null,
      "id": "7932b126",
      "metadata": {
        "colab": {
          "base_uri": "https://localhost:8080/",
          "height": 391
        },
        "id": "7932b126",
        "outputId": "dfd6df27-8095-41aa-a92f-34a05759bf44"
      },
      "outputs": [
        {
          "data": {
            "text/plain": [
              "<AxesSubplot:ylabel='Frequency'>"
            ]
          },
          "execution_count": 291,
          "metadata": {},
          "output_type": "execute_result"
        },
        {
          "data": {
            "image/png": "[encoded data removed]",
            "text/plain": [
              "<Figure size 640x480 with 1 Axes>"
            ]
          },
          "metadata": {},
          "output_type": "display_data"
        }
      ],
      "source": [
        "# normal data\n",
        "df[\"cylinders\"].plot(kind=\"hist\")"
      ]
    },
    {
      "cell_type": "code",
      "execution_count": null,
      "id": "4ea88b75",
      "metadata": {
        "colab": {
          "base_uri": "https://localhost:8080/"
        },
        "id": "4ea88b75",
        "outputId": "5fc14b8e-7da6-4585-c834-fde88d21d286"
      },
      "outputs": [
        {
          "data": {
            "text/plain": [
              "0.5269215453528939"
            ]
          },
          "execution_count": 292,
          "metadata": {},
          "output_type": "execute_result"
        }
      ],
      "source": [
        "# Almost normally distributed data\n",
        "df[\"cylinders\"].skew()"
      ]
    },
    {
      "cell_type": "markdown",
      "id": "ef446265",
      "metadata": {
        "id": "ef446265"
      },
      "source": [
        "### displacement column"
      ]
    },
    {
      "cell_type": "code",
      "execution_count": null,
      "id": "17299e9b",
      "metadata": {
        "colab": {
          "base_uri": "https://localhost:8080/"
        },
        "id": "17299e9b",
        "outputId": "103a1170-b5d0-484b-eb4d-6b7241561415"
      },
      "outputs": [
        {
          "data": {
            "text/plain": [
              "count    398.000000\n",
              "mean     193.425879\n",
              "std      104.269838\n",
              "min       68.000000\n",
              "25%      104.250000\n",
              "50%      148.500000\n",
              "75%      262.000000\n",
              "max      455.000000\n",
              "Name: displacement, dtype: float64"
            ]
          },
          "execution_count": 293,
          "metadata": {},
          "output_type": "execute_result"
        }
      ],
      "source": [
        "# Contains more  max values\n",
        "df[\"displacement\"].describe()"
      ]
    },
    {
      "cell_type": "code",
      "execution_count": null,
      "id": "969476b3",
      "metadata": {
        "colab": {
          "base_uri": "https://localhost:8080/",
          "height": 391
        },
        "id": "969476b3",
        "outputId": "8d04dd38-11be-4764-ec53-ef85f47daf7c"
      },
      "outputs": [
        {
          "data": {
            "text/plain": [
              "<AxesSubplot:ylabel='Frequency'>"
            ]
          },
          "execution_count": 294,
          "metadata": {},
          "output_type": "execute_result"
        },
        {
          "data": {
            "image/png": "[encoded data removed]",
            "text/plain": [
              "<Figure size 640x480 with 1 Axes>"
            ]
          },
          "metadata": {},
          "output_type": "display_data"
        }
      ],
      "source": [
        "# Almost normally distributed data\n",
        "df[\"displacement\"].plot(kind=\"hist\")"
      ]
    },
    {
      "cell_type": "code",
      "execution_count": null,
      "id": "6ae9c025",
      "metadata": {
        "colab": {
          "base_uri": "https://localhost:8080/"
        },
        "id": "6ae9c025",
        "outputId": "4ab91279-8754-44e0-fa92-9e1392c98115"
      },
      "outputs": [
        {
          "data": {
            "text/plain": [
              "0.7196451643005952"
            ]
          },
          "execution_count": 295,
          "metadata": {},
          "output_type": "execute_result"
        }
      ],
      "source": [
        "# Almost normally distributed data\n",
        "df[\"displacement\"].skew()"
      ]
    },
    {
      "cell_type": "code",
      "execution_count": null,
      "id": "dc1fd0a0",
      "metadata": {
        "colab": {
          "base_uri": "https://localhost:8080/",
          "height": 391
        },
        "id": "dc1fd0a0",
        "outputId": "af8799ba-20f3-430b-e33f-48c276be8e0a"
      },
      "outputs": [
        {
          "name": "stderr",
          "output_type": "stream",
          "text": [
            "/Users/pavangedala/opt/anaconda3/lib/python3.9/site-packages/seaborn/_decorators.py:36: FutureWarning: Pass the following variable as a keyword arg: x. From version 0.12, the only valid positional argument will be `data`, and passing other arguments without an explicit keyword will result in an error or misinterpretation.\n",
            "  warnings.warn(\n"
          ]
        },
        {
          "data": {
            "text/plain": [
              "<AxesSubplot:xlabel='displacement'>"
            ]
          },
          "execution_count": 296,
          "metadata": {},
          "output_type": "execute_result"
        },
        {
          "data": {
            "image/png": "[encoded data removed]",
            "text/plain": [
              "<Figure size 640x480 with 1 Axes>"
            ]
          },
          "metadata": {},
          "output_type": "display_data"
        }
      ],
      "source": [
        "# No outliers but contains many max values\n",
        "sns.boxplot(df[\"displacement\"])"
      ]
    },
    {
      "cell_type": "code",
      "execution_count": null,
      "id": "22a4cb5c",
      "metadata": {
        "colab": {
          "base_uri": "https://localhost:8080/"
        },
        "id": "22a4cb5c",
        "outputId": "75b35078-5c88-41c2-e57c-3a740f3bc89e"
      },
      "outputs": [
        {
          "name": "stdout",
          "output_type": "stream",
          "text": [
            "<class 'pandas.core.series.Series'>\n",
            "RangeIndex: 398 entries, 0 to 397\n",
            "Series name: displacement\n",
            "Non-Null Count  Dtype  \n",
            "--------------  -----  \n",
            "398 non-null    float64\n",
            "dtypes: float64(1)\n",
            "memory usage: 3.2 KB\n"
          ]
        }
      ],
      "source": [
        "#The \"displacement\" column, initially of type float64, is transformed to float32 to reduce memory consumption\n",
        "df[\"displacement\"].info()"
      ]
    },
    {
      "cell_type": "code",
      "execution_count": null,
      "id": "3ee009c8",
      "metadata": {
        "id": "3ee009c8"
      },
      "outputs": [],
      "source": [
        "# Conversion from float64 to float32\n",
        "df[\"displacement\"] = df[\"displacement\"].astype('float32')"
      ]
    },
    {
      "cell_type": "code",
      "execution_count": null,
      "id": "f83d4cf6",
      "metadata": {
        "colab": {
          "base_uri": "https://localhost:8080/"
        },
        "id": "f83d4cf6",
        "outputId": "1198f4dc-eb9e-40e6-8c51-5434bc3a0cc6"
      },
      "outputs": [
        {
          "name": "stdout",
          "output_type": "stream",
          "text": [
            "<class 'pandas.core.series.Series'>\n",
            "RangeIndex: 398 entries, 0 to 397\n",
            "Series name: displacement\n",
            "Non-Null Count  Dtype  \n",
            "--------------  -----  \n",
            "398 non-null    float32\n",
            "dtypes: float32(1)\n",
            "memory usage: 1.7 KB\n"
          ]
        }
      ],
      "source": [
        "# Test\n",
        "df[\"displacement\"].info()"
      ]
    },
    {
      "cell_type": "code",
      "execution_count": null,
      "id": "a293b52a",
      "metadata": {
        "colab": {
          "base_uri": "https://localhost:8080/"
        },
        "id": "a293b52a",
        "outputId": "3690504e-3a3f-4d2a-d577-5c34d23df115"
      },
      "outputs": [
        {
          "data": {
            "text/plain": [
              "count    398.000000\n",
              "mean     102.894472\n",
              "std       40.269544\n",
              "min        0.000000\n",
              "25%       75.000000\n",
              "50%       92.000000\n",
              "75%      125.000000\n",
              "max      230.000000\n",
              "Name: horsepower, dtype: float64"
            ]
          },
          "execution_count": 300,
          "metadata": {},
          "output_type": "execute_result"
        }
      ],
      "source": [
        "# looks  normal\n",
        "df[\"horsepower\"].describe()"
      ]
    },
    {
      "cell_type": "code",
      "execution_count": null,
      "id": "1579f63e",
      "metadata": {
        "colab": {
          "base_uri": "https://localhost:8080/",
          "height": 391
        },
        "id": "1579f63e",
        "outputId": "c416b5a1-9b24-45a5-e2d2-f6940cc1c3f8"
      },
      "outputs": [
        {
          "data": {
            "text/plain": [
              "<AxesSubplot:ylabel='Frequency'>"
            ]
          },
          "execution_count": 301,
          "metadata": {},
          "output_type": "execute_result"
        },
        {
          "data": {
            "image/png": "[encoded data removed]",
            "text/plain": [
              "<Figure size 640x480 with 1 Axes>"
            ]
          },
          "metadata": {},
          "output_type": "display_data"
        }
      ],
      "source": [
        "# almost normally distributed\n",
        "df[\"horsepower\"].plot(kind=\"hist\")"
      ]
    },
    {
      "cell_type": "code",
      "execution_count": null,
      "id": "7c7d489a",
      "metadata": {
        "colab": {
          "base_uri": "https://localhost:8080/"
        },
        "id": "7c7d489a",
        "outputId": "19bc66e3-fd86-470b-8ef5-de14e3fa7657"
      },
      "outputs": [
        {
          "data": {
            "text/plain": [
              "0.7878893133920739"
            ]
          },
          "execution_count": 302,
          "metadata": {},
          "output_type": "execute_result"
        }
      ],
      "source": [
        "# Almost normally distributed data\n",
        "df[\"horsepower\"].skew()"
      ]
    },
    {
      "cell_type": "code",
      "execution_count": null,
      "id": "27aa46ae",
      "metadata": {
        "colab": {
          "base_uri": "https://localhost:8080/",
          "height": 373
        },
        "id": "27aa46ae",
        "outputId": "ceefa7c8-53f4-4412-a1ff-880f1708e7c5"
      },
      "outputs": [
        {
          "data": {
            "image/png": "[encoded data removed]",
            "text/plain": [
              "<Figure size 640x480 with 1 Axes>"
            ]
          },
          "metadata": {},
          "output_type": "display_data"
        }
      ],
      "source": [
        "# Contains outliers\n",
        "df[\"horsepower\"].plot(kind=\"box\")\n",
        "plt.grid()"
      ]
    },
    {
      "cell_type": "code",
      "execution_count": null,
      "id": "842d02ef",
      "metadata": {
        "colab": {
          "base_uri": "https://localhost:8080/",
          "height": 300
        },
        "id": "842d02ef",
        "outputId": "6f1ccd87-7785-43cc-cce3-bd514519c480"
      },
      "outputs": [
        {
          "data": {
            "text/html": [
              "<div>\n",
              "<style scoped>\n",
              "    .dataframe tbody tr th:only-of-type {\n",
              "        vertical-align: middle;\n",
              "    }\n",
              "\n",
              "    .dataframe tbody tr th {\n",
              "        vertical-align: top;\n",
              "    }\n",
              "\n",
              "    .dataframe thead th {\n",
              "        text-align: right;\n",
              "    }\n",
              "</style>\n",
              "<table border=\"1\" class=\"dataframe\">\n",
              "  <thead>\n",
              "    <tr style=\"text-align: right;\">\n",
              "      <th></th>\n",
              "      <th>name</th>\n",
              "      <th>mpg</th>\n",
              "      <th>cylinders</th>\n",
              "      <th>displacement</th>\n",
              "      <th>horsepower</th>\n",
              "      <th>weight</th>\n",
              "      <th>acceleration</th>\n",
              "      <th>model_year</th>\n",
              "      <th>origin</th>\n",
              "    </tr>\n",
              "  </thead>\n",
              "  <tbody>\n",
              "    <tr>\n",
              "      <th>6</th>\n",
              "      <td>chevrolet impala</td>\n",
              "      <td>14.0</td>\n",
              "      <td>8</td>\n",
              "      <td>454.0</td>\n",
              "      <td>220.0</td>\n",
              "      <td>4354</td>\n",
              "      <td>9.0</td>\n",
              "      <td>70</td>\n",
              "      <td>usa</td>\n",
              "    </tr>\n",
              "    <tr>\n",
              "      <th>7</th>\n",
              "      <td>plymouth fury iii</td>\n",
              "      <td>14.0</td>\n",
              "      <td>8</td>\n",
              "      <td>440.0</td>\n",
              "      <td>215.0</td>\n",
              "      <td>4312</td>\n",
              "      <td>8.5</td>\n",
              "      <td>70</td>\n",
              "      <td>usa</td>\n",
              "    </tr>\n",
              "    <tr>\n",
              "      <th>8</th>\n",
              "      <td>pontiac catalina</td>\n",
              "      <td>14.0</td>\n",
              "      <td>8</td>\n",
              "      <td>455.0</td>\n",
              "      <td>225.0</td>\n",
              "      <td>4425</td>\n",
              "      <td>10.0</td>\n",
              "      <td>70</td>\n",
              "      <td>usa</td>\n",
              "    </tr>\n",
              "    <tr>\n",
              "      <th>13</th>\n",
              "      <td>buick estate wagon (sw)</td>\n",
              "      <td>14.0</td>\n",
              "      <td>8</td>\n",
              "      <td>455.0</td>\n",
              "      <td>225.0</td>\n",
              "      <td>3086</td>\n",
              "      <td>10.0</td>\n",
              "      <td>70</td>\n",
              "      <td>usa</td>\n",
              "    </tr>\n",
              "    <tr>\n",
              "      <th>25</th>\n",
              "      <td>ford f250</td>\n",
              "      <td>10.0</td>\n",
              "      <td>8</td>\n",
              "      <td>360.0</td>\n",
              "      <td>215.0</td>\n",
              "      <td>4615</td>\n",
              "      <td>14.0</td>\n",
              "      <td>70</td>\n",
              "      <td>usa</td>\n",
              "    </tr>\n",
              "    <tr>\n",
              "      <th>94</th>\n",
              "      <td>chrysler new yorker brougham</td>\n",
              "      <td>13.0</td>\n",
              "      <td>8</td>\n",
              "      <td>440.0</td>\n",
              "      <td>215.0</td>\n",
              "      <td>4735</td>\n",
              "      <td>11.0</td>\n",
              "      <td>73</td>\n",
              "      <td>usa</td>\n",
              "    </tr>\n",
              "    <tr>\n",
              "      <th>95</th>\n",
              "      <td>buick electra 225 custom</td>\n",
              "      <td>12.0</td>\n",
              "      <td>8</td>\n",
              "      <td>455.0</td>\n",
              "      <td>225.0</td>\n",
              "      <td>4951</td>\n",
              "      <td>11.0</td>\n",
              "      <td>73</td>\n",
              "      <td>usa</td>\n",
              "    </tr>\n",
              "    <tr>\n",
              "      <th>116</th>\n",
              "      <td>pontiac grand prix</td>\n",
              "      <td>16.0</td>\n",
              "      <td>8</td>\n",
              "      <td>400.0</td>\n",
              "      <td>230.0</td>\n",
              "      <td>4278</td>\n",
              "      <td>9.5</td>\n",
              "      <td>73</td>\n",
              "      <td>usa</td>\n",
              "    </tr>\n",
              "  </tbody>\n",
              "</table>\n",
              "</div>"
            ],
            "text/plain": [
              "                             name   mpg  cylinders  displacement  horsepower  \\\n",
              "6                chevrolet impala  14.0          8         454.0       220.0   \n",
              "7               plymouth fury iii  14.0          8         440.0       215.0   \n",
              "8                pontiac catalina  14.0          8         455.0       225.0   \n",
              "13        buick estate wagon (sw)  14.0          8         455.0       225.0   \n",
              "25                      ford f250  10.0          8         360.0       215.0   \n",
              "94   chrysler new yorker brougham  13.0          8         440.0       215.0   \n",
              "95       buick electra 225 custom  12.0          8         455.0       225.0   \n",
              "116            pontiac grand prix  16.0          8         400.0       230.0   \n",
              "\n",
              "     weight  acceleration  model_year origin  \n",
              "6      4354           9.0          70    usa  \n",
              "7      4312           8.5          70    usa  \n",
              "8      4425          10.0          70    usa  \n",
              "13     3086          10.0          70    usa  \n",
              "25     4615          14.0          70    usa  \n",
              "94     4735          11.0          73    usa  \n",
              "95     4951          11.0          73    usa  \n",
              "116    4278           9.5          73    usa  "
            ]
          },
          "execution_count": 304,
          "metadata": {},
          "output_type": "execute_result"
        }
      ],
      "source": [
        "# 8 outliers in the horsepower column\n",
        "df[df[\"horsepower\"]>210]"
      ]
    },
    {
      "cell_type": "code",
      "execution_count": null,
      "id": "1220531e",
      "metadata": {
        "colab": {
          "base_uri": "https://localhost:8080/"
        },
        "id": "1220531e",
        "outputId": "69b93cfa-785a-44f5-c22c-90349937ed97"
      },
      "outputs": [
        {
          "name": "stdout",
          "output_type": "stream",
          "text": [
            "<class 'pandas.core.series.Series'>\n",
            "RangeIndex: 398 entries, 0 to 397\n",
            "Series name: horsepower\n",
            "Non-Null Count  Dtype  \n",
            "--------------  -----  \n",
            "398 non-null    float64\n",
            "dtypes: float64(1)\n",
            "memory usage: 3.2 KB\n"
          ]
        }
      ],
      "source": [
        "# float64 is a very high float datatype and needs to be converted to lower float datatype to save memory\n",
        "df[\"horsepower\"].info()"
      ]
    },
    {
      "cell_type": "code",
      "execution_count": null,
      "id": "55e92004",
      "metadata": {
        "id": "55e92004"
      },
      "outputs": [],
      "source": [
        "# Conversion from float64 to float32\n",
        "df[\"horsepower\"] = df[\"horsepower\"].astype(\"float32\")"
      ]
    },
    {
      "cell_type": "code",
      "execution_count": null,
      "id": "38e98290",
      "metadata": {
        "colab": {
          "base_uri": "https://localhost:8080/"
        },
        "id": "38e98290",
        "outputId": "ca4414f3-d5f6-4621-826a-ba71523dced9"
      },
      "outputs": [
        {
          "name": "stdout",
          "output_type": "stream",
          "text": [
            "<class 'pandas.core.series.Series'>\n",
            "RangeIndex: 398 entries, 0 to 397\n",
            "Series name: horsepower\n",
            "Non-Null Count  Dtype  \n",
            "--------------  -----  \n",
            "398 non-null    float32\n",
            "dtypes: float32(1)\n",
            "memory usage: 1.7 KB\n"
          ]
        }
      ],
      "source": [
        "# Test\n",
        "df[\"horsepower\"].info()"
      ]
    },
    {
      "cell_type": "markdown",
      "id": "0acf6656",
      "metadata": {
        "id": "0acf6656"
      },
      "source": [
        "### weight column"
      ]
    },
    {
      "cell_type": "code",
      "execution_count": null,
      "id": "64fc627f",
      "metadata": {
        "colab": {
          "base_uri": "https://localhost:8080/"
        },
        "id": "64fc627f",
        "outputId": "103816b5-8c84-4544-bf56-8d31a35f7fef"
      },
      "outputs": [
        {
          "data": {
            "text/plain": [
              "count     398.000000\n",
              "mean     2970.424623\n",
              "std       846.841774\n",
              "min      1613.000000\n",
              "25%      2223.750000\n",
              "50%      2803.500000\n",
              "75%      3608.000000\n",
              "max      5140.000000\n",
              "Name: weight, dtype: float64"
            ]
          },
          "execution_count": 308,
          "metadata": {},
          "output_type": "execute_result"
        }
      ],
      "source": [
        "# Everythings normal\n",
        "df[\"weight\"].describe()"
      ]
    },
    {
      "cell_type": "code",
      "execution_count": null,
      "id": "d62d3734",
      "metadata": {
        "colab": {
          "base_uri": "https://localhost:8080/",
          "height": 391
        },
        "id": "d62d3734",
        "outputId": "19d6d2cf-2c95-4f41-fb9c-01aea1a27096"
      },
      "outputs": [
        {
          "data": {
            "text/plain": [
              "<AxesSubplot:ylabel='Frequency'>"
            ]
          },
          "execution_count": 309,
          "metadata": {},
          "output_type": "execute_result"
        },
        {
          "data": {
            "image/png": "[encoded data removed]",
            "text/plain": [
              "<Figure size 640x480 with 1 Axes>"
            ]
          },
          "metadata": {},
          "output_type": "display_data"
        }
      ],
      "source": [
        "# Almost normally distributed\n",
        "df[\"weight\"].plot(kind=\"hist\")"
      ]
    },
    {
      "cell_type": "code",
      "execution_count": null,
      "id": "66f2a2f8",
      "metadata": {
        "colab": {
          "base_uri": "https://localhost:8080/",
          "height": 373
        },
        "id": "66f2a2f8",
        "outputId": "29f541db-60e4-4fa7-d0c2-56d6105c9071"
      },
      "outputs": [
        {
          "name": "stderr",
          "output_type": "stream",
          "text": [
            "/Users/pavangedala/opt/anaconda3/lib/python3.9/site-packages/seaborn/_decorators.py:36: FutureWarning: Pass the following variable as a keyword arg: x. From version 0.12, the only valid positional argument will be `data`, and passing other arguments without an explicit keyword will result in an error or misinterpretation.\n",
            "  warnings.warn(\n"
          ]
        },
        {
          "data": {
            "image/png": "[encoded data removed]",
            "text/plain": [
              "<Figure size 640x480 with 1 Axes>"
            ]
          },
          "metadata": {},
          "output_type": "display_data"
        }
      ],
      "source": [
        "# No outlier detected\n",
        "sns.boxplot(df[\"weight\"])\n",
        "plt.grid()"
      ]
    },
    {
      "cell_type": "code",
      "execution_count": null,
      "id": "4625a777",
      "metadata": {
        "colab": {
          "base_uri": "https://localhost:8080/"
        },
        "id": "4625a777",
        "outputId": "731ce6f4-3784-44a1-85a7-a49485d43c62"
      },
      "outputs": [
        {
          "data": {
            "text/plain": [
              "0.5310625125994629"
            ]
          },
          "execution_count": 311,
          "metadata": {},
          "output_type": "execute_result"
        }
      ],
      "source": [
        "# Almost normally distributed\n",
        "df[\"weight\"].skew()"
      ]
    },
    {
      "cell_type": "code",
      "execution_count": null,
      "id": "ae82ca96",
      "metadata": {
        "colab": {
          "base_uri": "https://localhost:8080/"
        },
        "id": "ae82ca96",
        "outputId": "484e20ff-543e-4ba6-ee5b-8261c2db9278"
      },
      "outputs": [
        {
          "name": "stdout",
          "output_type": "stream",
          "text": [
            "<class 'pandas.core.series.Series'>\n",
            "RangeIndex: 398 entries, 0 to 397\n",
            "Series name: weight\n",
            "Non-Null Count  Dtype\n",
            "--------------  -----\n",
            "398 non-null    int64\n",
            "dtypes: int64(1)\n",
            "memory usage: 3.2 KB\n"
          ]
        }
      ],
      "source": [
        "# int64 is a very high integer datatype and needs to be converted to lower integer datatype to save memory\n",
        "df[\"weight\"].info()"
      ]
    },
    {
      "cell_type": "code",
      "execution_count": null,
      "id": "2221b0c6",
      "metadata": {
        "id": "2221b0c6"
      },
      "outputs": [],
      "source": [
        "# Conversion from int64 to int16 saved 2kb memory\n",
        "df[\"weight\"] = df[\"weight\"].astype(\"int16\")"
      ]
    },
    {
      "cell_type": "code",
      "execution_count": null,
      "id": "7eb034e6",
      "metadata": {
        "colab": {
          "base_uri": "https://localhost:8080/"
        },
        "id": "7eb034e6",
        "outputId": "345fd205-2992-49e0-b26a-bdd56110e155"
      },
      "outputs": [
        {
          "name": "stdout",
          "output_type": "stream",
          "text": [
            "<class 'pandas.core.series.Series'>\n",
            "RangeIndex: 398 entries, 0 to 397\n",
            "Series name: weight\n",
            "Non-Null Count  Dtype\n",
            "--------------  -----\n",
            "398 non-null    int16\n",
            "dtypes: int16(1)\n",
            "memory usage: 924.0 bytes\n"
          ]
        }
      ],
      "source": [
        "# Test\n",
        "df[\"weight\"].info()"
      ]
    },
    {
      "cell_type": "markdown",
      "id": "e59317c8",
      "metadata": {
        "id": "e59317c8"
      },
      "source": [
        "### acceleration column"
      ]
    },
    {
      "cell_type": "code",
      "execution_count": null,
      "id": "b3fad851",
      "metadata": {
        "colab": {
          "base_uri": "https://localhost:8080/"
        },
        "id": "b3fad851",
        "outputId": "a4890a53-d8ef-4b9d-ed7c-e0bdf27f21fa"
      },
      "outputs": [
        {
          "data": {
            "text/plain": [
              "count    398.000000\n",
              "mean      15.568090\n",
              "std        2.757689\n",
              "min        8.000000\n",
              "25%       13.825000\n",
              "50%       15.500000\n",
              "75%       17.175000\n",
              "max       24.800000\n",
              "Name: acceleration, dtype: float64"
            ]
          },
          "execution_count": 315,
          "metadata": {},
          "output_type": "execute_result"
        }
      ],
      "source": [
        "# Perfectly normal distribution\n",
        "df[\"acceleration\"].describe()"
      ]
    },
    {
      "cell_type": "code",
      "execution_count": null,
      "id": "9896544d",
      "metadata": {
        "colab": {
          "base_uri": "https://localhost:8080/",
          "height": 391
        },
        "id": "9896544d",
        "outputId": "549e4415-d9b9-424a-caa0-7a3a5dd6b245"
      },
      "outputs": [
        {
          "data": {
            "text/plain": [
              "<AxesSubplot:ylabel='Frequency'>"
            ]
          },
          "execution_count": 316,
          "metadata": {},
          "output_type": "execute_result"
        },
        {
          "data": {
            "image/png": "[encoded data removed]",
            "text/plain": [
              "<Figure size 640x480 with 1 Axes>"
            ]
          },
          "metadata": {},
          "output_type": "display_data"
        }
      ],
      "source": [
        "# Perfectly normal distribution\n",
        "df[\"acceleration\"].plot(kind=\"hist\")"
      ]
    },
    {
      "cell_type": "code",
      "execution_count": null,
      "id": "9ad72e76",
      "metadata": {
        "colab": {
          "base_uri": "https://localhost:8080/",
          "height": 391
        },
        "id": "9ad72e76",
        "outputId": "e5b0c557-ad8f-47fe-d603-852c208aebe0"
      },
      "outputs": [
        {
          "name": "stderr",
          "output_type": "stream",
          "text": [
            "/Users/pavangedala/opt/anaconda3/lib/python3.9/site-packages/seaborn/_decorators.py:36: FutureWarning: Pass the following variable as a keyword arg: x. From version 0.12, the only valid positional argument will be `data`, and passing other arguments without an explicit keyword will result in an error or misinterpretation.\n",
            "  warnings.warn(\n"
          ]
        },
        {
          "data": {
            "text/plain": [
              "<AxesSubplot:xlabel='acceleration'>"
            ]
          },
          "execution_count": 317,
          "metadata": {},
          "output_type": "execute_result"
        },
        {
          "data": {
            "image/png": "[encoded data removed]",
            "text/plain": [
              "<Figure size 640x480 with 1 Axes>"
            ]
          },
          "metadata": {},
          "output_type": "display_data"
        }
      ],
      "source": [
        "# Contains some outliers but can be ignored or if want to remove then can be removed\n",
        "sns.boxplot(df[\"acceleration\"])"
      ]
    },
    {
      "cell_type": "code",
      "execution_count": null,
      "id": "65442635",
      "metadata": {
        "colab": {
          "base_uri": "https://localhost:8080/"
        },
        "id": "65442635",
        "outputId": "540d9b04-14b5-4400-e2c5-19f70ef8c351"
      },
      "outputs": [
        {
          "data": {
            "text/plain": [
              "0.27877684462588986"
            ]
          },
          "execution_count": 318,
          "metadata": {},
          "output_type": "execute_result"
        }
      ],
      "source": [
        "# Perfectly normal distribution\n",
        "df[\"acceleration\"].skew()"
      ]
    },
    {
      "cell_type": "code",
      "execution_count": null,
      "id": "4dce7816",
      "metadata": {
        "colab": {
          "base_uri": "https://localhost:8080/"
        },
        "id": "4dce7816",
        "outputId": "29e68eff-db52-4931-cccb-32ba56595600"
      },
      "outputs": [
        {
          "name": "stdout",
          "output_type": "stream",
          "text": [
            "<class 'pandas.core.series.Series'>\n",
            "RangeIndex: 398 entries, 0 to 397\n",
            "Series name: acceleration\n",
            "Non-Null Count  Dtype  \n",
            "--------------  -----  \n",
            "398 non-null    float64\n",
            "dtypes: float64(1)\n",
            "memory usage: 3.2 KB\n"
          ]
        }
      ],
      "source": [
        "# float64 is a very high float datatype and needs to be converted to lower float datatype to save memory\n",
        "df[\"acceleration\"].info()"
      ]
    },
    {
      "cell_type": "code",
      "execution_count": null,
      "id": "306b56a5",
      "metadata": {
        "id": "306b56a5"
      },
      "outputs": [],
      "source": [
        "# Conversion from float64 to float32 which saved memory\n",
        "df[\"acceleration\"]= df[\"acceleration\"].astype(\"int32\")"
      ]
    },
    {
      "cell_type": "code",
      "execution_count": null,
      "id": "40b59284",
      "metadata": {
        "colab": {
          "base_uri": "https://localhost:8080/"
        },
        "id": "40b59284",
        "outputId": "7aba7128-7fe7-45ee-9c5a-4983c01f3ddd"
      },
      "outputs": [
        {
          "name": "stdout",
          "output_type": "stream",
          "text": [
            "<class 'pandas.core.series.Series'>\n",
            "RangeIndex: 398 entries, 0 to 397\n",
            "Series name: acceleration\n",
            "Non-Null Count  Dtype\n",
            "--------------  -----\n",
            "398 non-null    int32\n",
            "dtypes: int32(1)\n",
            "memory usage: 1.7 KB\n"
          ]
        }
      ],
      "source": [
        "# Test\n",
        "df[\"acceleration\"].info()"
      ]
    },
    {
      "cell_type": "markdown",
      "id": "a78e474a",
      "metadata": {
        "id": "a78e474a"
      },
      "source": [
        "### model_year column"
      ]
    },
    {
      "cell_type": "code",
      "execution_count": null,
      "id": "11520bed",
      "metadata": {
        "colab": {
          "base_uri": "https://localhost:8080/"
        },
        "id": "11520bed",
        "outputId": "3d297d1d-9f5d-4083-fe0c-5fa63a76f772"
      },
      "outputs": [
        {
          "data": {
            "text/plain": [
              "count    398.000000\n",
              "mean      76.010050\n",
              "std        3.697627\n",
              "min       70.000000\n",
              "25%       73.000000\n",
              "50%       76.000000\n",
              "75%       79.000000\n",
              "max       82.000000\n",
              "Name: model_year, dtype: float64"
            ]
          },
          "execution_count": 322,
          "metadata": {},
          "output_type": "execute_result"
        }
      ],
      "source": [
        "# Perfectly normal distribution\n",
        "df[\"model_year\"].describe()"
      ]
    },
    {
      "cell_type": "code",
      "execution_count": null,
      "id": "eac64ca6",
      "metadata": {
        "colab": {
          "base_uri": "https://localhost:8080/",
          "height": 391
        },
        "id": "eac64ca6",
        "outputId": "b5123253-8499-43c6-abd7-9b3f97d76ba1"
      },
      "outputs": [
        {
          "data": {
            "text/plain": [
              "<AxesSubplot:ylabel='Frequency'>"
            ]
          },
          "execution_count": 323,
          "metadata": {},
          "output_type": "execute_result"
        },
        {
          "data": {
            "image/png": "[encoded data removed]",
            "text/plain": [
              "<Figure size 640x480 with 1 Axes>"
            ]
          },
          "metadata": {},
          "output_type": "display_data"
        }
      ],
      "source": [
        "# Perfectly normal distribution\n",
        "df[\"model_year\"].plot(kind=\"hist\")"
      ]
    },
    {
      "cell_type": "code",
      "execution_count": null,
      "id": "b0019cb8",
      "metadata": {
        "colab": {
          "base_uri": "https://localhost:8080/",
          "height": 374
        },
        "id": "b0019cb8",
        "outputId": "83a248a4-864d-4c4a-ba4f-c2a9939f4db1"
      },
      "outputs": [
        {
          "data": {
            "image/png": "[encoded data removed]",
            "text/plain": [
              "<Figure size 640x480 with 1 Axes>"
            ]
          },
          "metadata": {},
          "output_type": "display_data"
        }
      ],
      "source": [
        "# Perfectly normal distribution\n",
        "df[\"model_year\"].plot(kind=\"box\")\n",
        "plt.grid()"
      ]
    },
    {
      "cell_type": "code",
      "execution_count": null,
      "id": "27515646",
      "metadata": {
        "colab": {
          "base_uri": "https://localhost:8080/"
        },
        "id": "27515646",
        "outputId": "93f5d489-f80a-4fd7-b353-43f5489c15d0"
      },
      "outputs": [
        {
          "data": {
            "text/plain": [
              "0.01153459401509278"
            ]
          },
          "execution_count": 325,
          "metadata": {},
          "output_type": "execute_result"
        }
      ],
      "source": [
        "# Perfectly normal distribution\n",
        "df[\"model_year\"].skew()"
      ]
    },
    {
      "cell_type": "code",
      "execution_count": null,
      "id": "acfd0004",
      "metadata": {
        "colab": {
          "base_uri": "https://localhost:8080/"
        },
        "id": "acfd0004",
        "outputId": "bf6c13bb-3ab1-4f6b-82e0-b6132434dde0"
      },
      "outputs": [
        {
          "name": "stdout",
          "output_type": "stream",
          "text": [
            "<class 'pandas.core.series.Series'>\n",
            "RangeIndex: 398 entries, 0 to 397\n",
            "Series name: model_year\n",
            "Non-Null Count  Dtype\n",
            "--------------  -----\n",
            "398 non-null    int64\n",
            "dtypes: int64(1)\n",
            "memory usage: 3.2 KB\n"
          ]
        }
      ],
      "source": [
        "# int64 is a very high integer datatype and needs to be converted to lower integer datatype to save memory\n",
        "df[\"model_year\"].info()"
      ]
    },
    {
      "cell_type": "code",
      "execution_count": null,
      "id": "aa6ebcd2",
      "metadata": {
        "id": "aa6ebcd2"
      },
      "outputs": [],
      "source": [
        "# Conversion from int64 to int16 saved 2kb memory\n",
        "df[\"model_year\"] = df[\"model_year\"].astype(\"int16\")"
      ]
    },
    {
      "cell_type": "code",
      "execution_count": null,
      "id": "80ec0775",
      "metadata": {
        "colab": {
          "base_uri": "https://localhost:8080/"
        },
        "id": "80ec0775",
        "outputId": "a7229e3f-5750-41a4-bf81-e211a6da48a6"
      },
      "outputs": [
        {
          "name": "stdout",
          "output_type": "stream",
          "text": [
            "<class 'pandas.core.series.Series'>\n",
            "RangeIndex: 398 entries, 0 to 397\n",
            "Series name: model_year\n",
            "Non-Null Count  Dtype\n",
            "--------------  -----\n",
            "398 non-null    int16\n",
            "dtypes: int16(1)\n",
            "memory usage: 924.0 bytes\n"
          ]
        }
      ],
      "source": [
        "# Test\n",
        "df[\"model_year\"].info()"
      ]
    },
    {
      "cell_type": "markdown",
      "id": "41db617c",
      "metadata": {
        "id": "41db617c"
      },
      "source": [
        "### origin column"
      ]
    },
    {
      "cell_type": "code",
      "execution_count": null,
      "id": "f5f7ee1a",
      "metadata": {
        "colab": {
          "base_uri": "https://localhost:8080/"
        },
        "id": "f5f7ee1a",
        "outputId": "44b41504-e761-40f1-da26-1241268e31b2"
      },
      "outputs": [
        {
          "data": {
            "text/plain": [
              "count     398\n",
              "unique      3\n",
              "top       usa\n",
              "freq      249\n",
              "Name: origin, dtype: object"
            ]
          },
          "execution_count": 329,
          "metadata": {},
          "output_type": "execute_result"
        }
      ],
      "source": [
        "# USA is the top category in the origin column\n",
        "df[\"origin\"].describe()"
      ]
    },
    {
      "cell_type": "code",
      "execution_count": null,
      "id": "a4054e22",
      "metadata": {
        "colab": {
          "base_uri": "https://localhost:8080/"
        },
        "id": "a4054e22",
        "outputId": "ff379976-f122-478f-d635-c5d62ffca0d3"
      },
      "outputs": [
        {
          "data": {
            "text/plain": [
              "0"
            ]
          },
          "execution_count": 330,
          "metadata": {},
          "output_type": "execute_result"
        }
      ],
      "source": [
        "# Pure categorical column\n",
        "df[\"origin\"].str.isdigit().sum()"
      ]
    },
    {
      "cell_type": "code",
      "execution_count": null,
      "id": "42fca32d",
      "metadata": {
        "colab": {
          "base_uri": "https://localhost:8080/"
        },
        "id": "42fca32d",
        "outputId": "1b848dba-ba14-4405-de4c-7461c03013a9"
      },
      "outputs": [
        {
          "data": {
            "text/plain": [
              "usa       249\n",
              "japan      79\n",
              "europe     70\n",
              "Name: origin, dtype: int64"
            ]
          },
          "execution_count": 331,
          "metadata": {},
          "output_type": "execute_result"
        }
      ],
      "source": [
        "# Values of the 3 categories\n",
        "df[\"origin\"].value_counts()"
      ]
    },
    {
      "cell_type": "code",
      "execution_count": null,
      "id": "b131f116",
      "metadata": {
        "colab": {
          "base_uri": "https://localhost:8080/",
          "height": 429
        },
        "id": "b131f116",
        "outputId": "bc78d98d-3f1e-4c66-bbfa-a8a13d053a53"
      },
      "outputs": [
        {
          "data": {
            "text/plain": [
              "<AxesSubplot:>"
            ]
          },
          "execution_count": 332,
          "metadata": {},
          "output_type": "execute_result"
        },
        {
          "data": {
            "image/png": "[encoded data removed]",
            "text/plain": [
              "<Figure size 640x480 with 1 Axes>"
            ]
          },
          "metadata": {},
          "output_type": "display_data"
        }
      ],
      "source": [
        "# Visualization of values of the 3 categorie using bar chart\n",
        "# Top 3 regions\n",
        "df[\"origin\"].value_counts().plot(kind=\"bar\")"
      ]
    },
    {
      "cell_type": "code",
      "execution_count": null,
      "id": "efe9b3ca",
      "metadata": {
        "colab": {
          "base_uri": "https://localhost:8080/"
        },
        "id": "efe9b3ca",
        "outputId": "dea13190-ee05-44de-dbbb-b09b00d0c347"
      },
      "outputs": [
        {
          "data": {
            "text/plain": [
              "0"
            ]
          },
          "execution_count": 333,
          "metadata": {},
          "output_type": "execute_result"
        }
      ],
      "source": [
        "df[\"origin\"].isnull().sum()"
      ]
    },
    {
      "cell_type": "code",
      "execution_count": null,
      "id": "d121eee4",
      "metadata": {
        "colab": {
          "base_uri": "https://localhost:8080/"
        },
        "id": "d121eee4",
        "outputId": "813abdc5-670c-40f6-e785-7156cdc9ca48"
      },
      "outputs": [
        {
          "name": "stdout",
          "output_type": "stream",
          "text": [
            "<class 'pandas.core.series.Series'>\n",
            "RangeIndex: 398 entries, 0 to 397\n",
            "Series name: origin\n",
            "Non-Null Count  Dtype \n",
            "--------------  ----- \n",
            "398 non-null    object\n",
            "dtypes: object(1)\n",
            "memory usage: 3.2+ KB\n"
          ]
        }
      ],
      "source": [
        "# Object datatype occupies more space than category datatype so we have to convert it into category datatype\n",
        "df[\"origin\"].info()"
      ]
    },
    {
      "cell_type": "code",
      "execution_count": null,
      "id": "c9fcc952",
      "metadata": {
        "id": "c9fcc952"
      },
      "outputs": [],
      "source": [
        "# Conversion from object dtype to category dtype which saved upto 2kb space\n",
        "df[\"origin\"] = df[\"origin\"].astype(\"category\")"
      ]
    },
    {
      "cell_type": "code",
      "execution_count": null,
      "id": "a90884b6",
      "metadata": {
        "colab": {
          "base_uri": "https://localhost:8080/"
        },
        "id": "a90884b6",
        "outputId": "c98634b1-166c-4d72-97ec-c654319fd282"
      },
      "outputs": [
        {
          "name": "stdout",
          "output_type": "stream",
          "text": [
            "<class 'pandas.core.series.Series'>\n",
            "RangeIndex: 398 entries, 0 to 397\n",
            "Series name: origin\n",
            "Non-Null Count  Dtype   \n",
            "--------------  -----   \n",
            "398 non-null    category\n",
            "dtypes: category(1)\n",
            "memory usage: 658.0 bytes\n"
          ]
        }
      ],
      "source": [
        "# Test\n",
        "df[\"origin\"].info()"
      ]
    },
    {
      "cell_type": "markdown",
      "id": "26dbc4ab",
      "metadata": {
        "id": "26dbc4ab"
      },
      "source": [
        "# Creating Model and Training using Logistic Regression Algorithm"
      ]
    },
    {
      "cell_type": "code",
      "execution_count": null,
      "id": "c470e101",
      "metadata": {
        "id": "c470e101"
      },
      "outputs": [],
      "source": [
        "X = df.drop([\"name\", \"origin\"], axis=1)  # Drop \"name\" as it's a non-numeric identifier\n",
        "y = df[\"origin\"]"
      ]
    },
    {
      "cell_type": "code",
      "execution_count": null,
      "id": "d6f9d549",
      "metadata": {
        "id": "d6f9d549"
      },
      "outputs": [],
      "source": [
        "from sklearn.model_selection import train_test_split\n",
        "from sklearn.preprocessing import StandardScaler\n",
        "from sklearn.linear_model import LogisticRegression\n",
        "from sklearn.metrics import accuracy_score, classification_report, confusion_matrix"
      ]
    },
    {
      "cell_type": "code",
      "execution_count": null,
      "id": "705398fa",
      "metadata": {
        "id": "705398fa"
      },
      "outputs": [],
      "source": [
        "X_train, X_test, y_train, y_test = train_test_split(X, y, test_size=0.2, random_state=42)"
      ]
    },
    {
      "cell_type": "code",
      "execution_count": null,
      "id": "7bcfc498",
      "metadata": {
        "id": "7bcfc498",
        "outputId": "4618a276-996a-4195-c067-268c43744a5e"
      },
      "outputs": [
        {
          "name": "stderr",
          "output_type": "stream",
          "text": [
            "/Users/pavangedala/opt/anaconda3/lib/python3.9/site-packages/sklearn/linear_model/_logistic.py:814: ConvergenceWarning: lbfgs failed to converge (status=1):\n",
            "STOP: TOTAL NO. of ITERATIONS REACHED LIMIT.\n",
            "\n",
            "Increase the number of iterations (max_iter) or scale the data as shown in:\n",
            "    https://scikit-learn.org/stable/modules/preprocessing.html\n",
            "Please also refer to the documentation for alternative solver options:\n",
            "    https://scikit-learn.org/stable/modules/linear_model.html#logistic-regression\n",
            "  n_iter_i = _check_optimize_result(\n"
          ]
        },
        {
          "data": {
            "text/plain": [
              "LogisticRegression(max_iter=1000, random_state=42)"
            ]
          },
          "execution_count": 340,
          "metadata": {},
          "output_type": "execute_result"
        }
      ],
      "source": [
        "model = LogisticRegression(random_state=42, max_iter=1000)\n",
        "model.fit(X_train, y_train)"
      ]
    },
    {
      "cell_type": "code",
      "execution_count": null,
      "id": "f4ab29af",
      "metadata": {
        "id": "f4ab29af"
      },
      "outputs": [],
      "source": [
        "predictions = model.predict(X_test)"
      ]
    },
    {
      "cell_type": "code",
      "execution_count": null,
      "id": "ceac0811",
      "metadata": {
        "scrolled": true,
        "id": "ceac0811",
        "outputId": "3430cec5-73ae-4a7d-87de-e359fb04720d"
      },
      "outputs": [
        {
          "name": "stdout",
          "output_type": "stream",
          "text": [
            "Accuracy: 0.7625\n",
            "\n",
            "Confusion Matrix:\n",
            " [[ 4  6  4]\n",
            " [ 0  9  4]\n",
            " [ 1  4 48]]\n",
            "\n",
            "Classification Report:\n",
            "               precision    recall  f1-score   support\n",
            "\n",
            "      europe       0.80      0.29      0.42        14\n",
            "       japan       0.47      0.69      0.56        13\n",
            "         usa       0.86      0.91      0.88        53\n",
            "\n",
            "    accuracy                           0.76        80\n",
            "   macro avg       0.71      0.63      0.62        80\n",
            "weighted avg       0.78      0.76      0.75        80\n",
            "\n"
          ]
        }
      ],
      "source": [
        "accuracy = accuracy_score(y_test, predictions)\n",
        "conf_matrix = confusion_matrix(y_test, predictions)\n",
        "classification_rep = classification_report(y_test, predictions)\n",
        "\n",
        "print(f\"Accuracy: {accuracy}\")\n",
        "print(\"\\nConfusion Matrix:\\n\", conf_matrix)\n",
        "print(\"\\nClassification Report:\\n\", classification_rep)"
      ]
    },
    {
      "cell_type": "code",
      "execution_count": null,
      "id": "786ac647",
      "metadata": {
        "id": "786ac647"
      },
      "outputs": [],
      "source": []
    },
    {
      "cell_type": "code",
      "execution_count": null,
      "id": "577d7836",
      "metadata": {
        "id": "577d7836"
      },
      "outputs": [],
      "source": []
    }
  ],
  "metadata": {
    "colab": {
      "provenance": []
    },
    "kernelspec": {
      "display_name": "Python 3 (ipykernel)",
      "language": "python",
      "name": "python3"
    },
    "language_info": {
      "codemirror_mode": {
        "name": "ipython",
        "version": 3
      },
      "file_extension": ".py",
      "mimetype": "text/x-python",
      "name": "python",
      "nbconvert_exporter": "python",
      "pygments_lexer": "ipython3",
      "version": "3.9.13"
    }
  },
  "nbformat": 4,
  "nbformat_minor": 5
}